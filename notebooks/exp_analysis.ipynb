{
 "cells": [
  {
   "cell_type": "code",
   "execution_count": 1,
   "metadata": {},
   "outputs": [
    {
     "name": "stdout",
     "output_type": "stream",
     "text": [
      "exp: EPS387\n",
      "num_events_orion 10\n",
      "num_events_manual 6\n",
      "num_annotations 45\n",
      "exp: ACS166\n",
      "num_events_orion 9\n",
      "num_events_manual 0\n",
      "num_annotations 19\n",
      "exp: TCS6727\n",
      "num_events_orion 8\n",
      "num_events_manual 4\n",
      "num_annotations 16\n",
      "exp: ENV10491\n",
      "num_events_orion 11\n",
      "num_events_manual 5\n",
      "num_annotations 29\n",
      "exp: WarmTask\n",
      "num_events_orion 8\n",
      "num_events_manual 0\n",
      "num_annotations 0\n"
     ]
    }
   ],
   "source": [
    "from mtv.utils import read_config\n",
    "cf = read_config('./mtv/config.yaml')\n",
    "\n",
    "from mongoengine import connect\n",
    "from pymongo.database import Database\n",
    "from gridfs import GridFS\n",
    "\n",
    "database = 'mtv-result2'\n",
    "\n",
    "_db = connect(db=database, host=cf['host'], port=cf['port'],\n",
    "               username=cf['username'], password=cf['password'])\n",
    "\n",
    "_fs = GridFS(Database(_db, database))\n",
    "\n",
    "from mtv.db import schema\n",
    "query = {}\n",
    "exp_docs = schema.Experiment.find(**query)\n",
    "\n",
    "for exp_doc in exp_docs:\n",
    "    print('exp:', exp_doc.name)\n",
    "    \n",
    "    signalrun_docs = schema.Signalrun.find()\n",
    "    num_events = 0\n",
    "    num_events_orion = 0\n",
    "    num_events_manual = 0\n",
    "    num_annotations = 0\n",
    "    count_tag = dict()\n",
    "    \n",
    "    for signalrun_doc in signalrun_docs:\n",
    "        if signalrun_doc.datarun.experiment.id != exp_doc.id:\n",
    "            continue\n",
    "        \n",
    "        event_docs = schema.Event.find(signalrun=signalrun_doc.id)\n",
    "        for event_doc in event_docs:\n",
    "            if (event_doc.source == 'ORION'):\n",
    "                num_events_orion += 1\n",
    "            else:\n",
    "                num_events_manual += 1\n",
    "            num_annotations += schema.Annotation.find(event=event_doc.id).count()\n",
    " \n",
    "    print('num_events_orion', num_events_orion)\n",
    "    print('num_events_manual', num_events_manual)\n",
    "    print('num_annotations', num_annotations)\n",
    "\n"
   ]
  },
  {
   "cell_type": "code",
   "execution_count": null,
   "metadata": {},
   "outputs": [],
   "source": []
  }
 ],
 "metadata": {
  "kernelspec": {
   "display_name": "Python 3",
   "language": "python",
   "name": "python3"
  },
  "language_info": {
   "codemirror_mode": {
    "name": "ipython",
    "version": 3
   },
   "file_extension": ".py",
   "mimetype": "text/x-python",
   "name": "python",
   "nbconvert_exporter": "python",
   "pygments_lexer": "ipython3",
   "version": "3.6.10"
  }
 },
 "nbformat": 4,
 "nbformat_minor": 4
}
